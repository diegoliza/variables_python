{
  "nbformat": 4,
  "nbformat_minor": 0,
  "metadata": {
    "colab": {
      "provenance": [],
      "authorship_tag": "ABX9TyNGW+6dphb/9FWv9Aogvmue",
      "include_colab_link": true
    },
    "kernelspec": {
      "name": "python3",
      "display_name": "Python 3"
    },
    "language_info": {
      "name": "python"
    }
  },
  "cells": [
    {
      "cell_type": "markdown",
      "metadata": {
        "id": "view-in-github",
        "colab_type": "text"
      },
      "source": [
        "<a href=\"https://colab.research.google.com/github/diegoliza/variables_python/blob/master/count_replace.ipynb\" target=\"_parent\"><img src=\"https://colab.research.google.com/assets/colab-badge.svg\" alt=\"Open In Colab\"/></a>"
      ]
    },
    {
      "cell_type": "code",
      "execution_count": null,
      "metadata": {
        "id": "6jxzExayM_du",
        "outputId": "49da4b57-c738-4258-9ec3-eaf664c525cd",
        "colab": {
          "base_uri": "https://localhost:8080/"
        }
      },
      "outputs": [
        {
          "output_type": "stream",
          "name": "stdout",
          "text": [
            "Ingrese una palabra: abanderado\n",
            "la palabra ingresada contiene la catidad de letras: 3 \n",
            "La nueva palabra es: ebenderedo\n"
          ]
        }
      ],
      "source": [
        "\n",
        "palabra = input(\"Ingrese una palabra: \")\n",
        "print(\"la palabra ingresada contiene la catidad de letras:\",palabra.count(\"a\"),\"\\nLa nueva palabra es:\",palabra.replace(\"a\",\"e\"))\n"
      ]
    }
  ]
}